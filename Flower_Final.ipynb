{
  "nbformat": 4,
  "nbformat_minor": 0,
  "metadata": {
    "colab": {
      "name": "Flower_Final.ipynb",
      "provenance": [],
      "collapsed_sections": [],
      "machine_shape": "hm"
    },
    "kernelspec": {
      "name": "python3",
      "display_name": "Python 3"
    }
  },
  "cells": [
    {
      "cell_type": "code",
      "metadata": {
        "id": "SmLAigHcSRmz"
      },
      "source": [
        "!pip install -U -q kaggle\n",
        "!mkdir -p ~/.kaggle"
      ],
      "execution_count": null,
      "outputs": []
    },
    {
      "cell_type": "code",
      "metadata": {
        "id": "uE2y3efRSTCG",
        "colab": {
          "resources": {
            "http://localhost:8080/nbextensions/google.colab/files.js": {
              "data": "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",
              "ok": true,
              "headers": [
                [
                  "content-type",
                  "application/javascript"
                ]
              ],
              "status": 200,
              "status_text": ""
            }
          },
          "base_uri": "https://localhost:8080/",
          "height": 91
        },
        "outputId": "025d005c-225b-4809-ed81-1c4177c9d3d6"
      },
      "source": [
        "from google.colab import files\n",
        "files.upload()"
      ],
      "execution_count": null,
      "outputs": [
        {
          "output_type": "display_data",
          "data": {
            "text/html": [
              "\n",
              "     <input type=\"file\" id=\"files-1f0497cd-67ed-43cd-9e1f-38ca0980f88a\" name=\"files[]\" multiple disabled />\n",
              "     <output id=\"result-1f0497cd-67ed-43cd-9e1f-38ca0980f88a\">\n",
              "      Upload widget is only available when the cell has been executed in the\n",
              "      current browser session. Please rerun this cell to enable.\n",
              "      </output>\n",
              "      <script src=\"/nbextensions/google.colab/files.js\"></script> "
            ],
            "text/plain": [
              "<IPython.core.display.HTML object>"
            ]
          },
          "metadata": {
            "tags": []
          }
        },
        {
          "output_type": "stream",
          "text": [
            "Saving kaggle.json to kaggle.json\n"
          ],
          "name": "stdout"
        },
        {
          "output_type": "execute_result",
          "data": {
            "text/plain": [
              "{'kaggle.json': b'{\"username\":\"suyashchougule\",\"key\":\"f8131a9b2edfa78230e3eef39c3f2b69\"}'}"
            ]
          },
          "metadata": {
            "tags": []
          },
          "execution_count": 7
        }
      ]
    },
    {
      "cell_type": "code",
      "metadata": {
        "id": "P31BGC0STTd6"
      },
      "source": [
        "!cp kaggle.json ~/.kaggle/"
      ],
      "execution_count": null,
      "outputs": []
    },
    {
      "cell_type": "code",
      "metadata": {
        "id": "O9J39HHvThb_",
        "colab": {
          "base_uri": "https://localhost:8080/",
          "height": 440
        },
        "outputId": "8f938eaa-1d31-4d8f-c293-74657559ab0d"
      },
      "source": [
        "!kaggle datasets list"
      ],
      "execution_count": null,
      "outputs": [
        {
          "output_type": "stream",
          "text": [
            "Warning: Your Kaggle API key is readable by other users on this system! To fix this, you can run 'chmod 600 /root/.kaggle/kaggle.json'\n",
            "Warning: Looks like you're using an outdated API Version, please consider updating (server 1.5.6 / client 1.5.4)\n",
            "ref                                                         title                                                size  lastUpdated          downloadCount  \n",
            "----------------------------------------------------------  --------------------------------------------------  -----  -------------------  -------------  \n",
            "allen-institute-for-ai/CORD-19-research-challenge           COVID-19 Open Research Dataset Challenge (CORD-19)    2GB  2020-05-02 20:35:01          64098  \n",
            "divyansh22/us-border-crossing-data                          US Border Crossing Data                               2MB  2020-04-19 09:38:10           1659  \n",
            "roche-data-science-coalition/uncover                        UNCOVER COVID-19 Challenge                          142MB  2020-04-29 22:47:23           7887  \n",
            "baltacifatih/turkish-lira-banknote-dataset                  Turkish Lira Banknote Dataset                         3GB  2020-04-19 14:48:39            178  \n",
            "doaaalsenani/usa-cers-dataset                               US Cars Dataset                                      66KB  2020-04-22 14:38:05           3014  \n",
            "justinas/housing-in-london                                  Housing in London                                   169KB  2020-04-29 18:43:38           1784  \n",
            "steveahn/memory-test-on-drugged-islanders-data              Memory Test on Drugged Islanders Data                 3KB  2019-08-20 18:54:37            893  \n",
            "ankurzing/sentiment-analysis-for-financial-news             Sentiment Analysis for Financial News               904KB  2020-04-26 18:41:22            552  \n",
            "slayomer/forbes-celebrity-100-since-2005                    Forbes Celebrity 100 since 2005 (for Racing Bar)     12KB  2020-04-26 15:51:16            377  \n",
            "phiitm/reddit-india-flair-detector                          Reddit India Flair Detector                          48MB  2020-04-27 20:27:24             98  \n",
            "mariaren/covid19-healthy-diet-dataset                       COVID-19 Healthy Diet Dataset                        82KB  2020-05-10 23:35:00           1421  \n",
            "marcelopesse/cartier-jewelry-catalog                        Cartier Jewelry - Catalog                            22KB  2020-04-27 05:03:23            190  \n",
            "jessemostipak/animal-crossing                               Animal Crossing                                     754KB  2020-05-04 15:30:32            196  \n",
            "benroshan/factors-affecting-campus-placement                Campus Recruitment                                    5KB  2020-04-11 11:09:02           3461  \n",
            "bobbyscience/league-of-legends-diamond-ranked-games-10-min  League of Legends Diamond Ranked Games (10 min)     539KB  2020-04-13 13:53:02           1649  \n",
            "fireballbyedimyrnmom/us-counties-covid-19-dataset           US counties COVID 19 dataset                          1MB  2020-05-10 11:51:54           6283  \n",
            "divyansh22/flight-delay-prediction                          January Flight Delay Prediction                      23MB  2020-04-14 13:15:41           1344  \n",
            "clmentbisaillon/fake-and-real-news-dataset                  Fake and real news dataset                           41MB  2020-03-26 18:51:15           3523  \n",
            "ikiulian/global-hospital-beds-capacity-for-covid19          Global Hospital Beds Capacity (for covid-19)        284KB  2020-04-26 09:39:35           1619  \n",
            "praveengovi/coronahack-chest-xraydataset                    CoronaHack -Chest X-Ray-Dataset                       1GB  2020-03-20 01:26:40           2237  \n"
          ],
          "name": "stdout"
        }
      ]
    },
    {
      "cell_type": "code",
      "metadata": {
        "id": "zZ5ZrNbeUMzE",
        "colab": {
          "base_uri": "https://localhost:8080/",
          "height": 84
        },
        "outputId": "a87ec8bc-501d-4ce2-bdfc-27340f3335fe"
      },
      "source": [
        "!kaggle datasets download -d ianmoone0617/flower-goggle-tpu-classification"
      ],
      "execution_count": null,
      "outputs": [
        {
          "output_type": "stream",
          "text": [
            "Warning: Your Kaggle API key is readable by other users on this system! To fix this, you can run 'chmod 600 /root/.kaggle/kaggle.json'\n",
            "Downloading flower-goggle-tpu-classification.zip to /content\n",
            " 98% 260M/264M [00:03<00:00, 71.2MB/s]\n",
            "100% 264M/264M [00:03<00:00, 69.7MB/s]\n"
          ],
          "name": "stdout"
        }
      ]
    },
    {
      "cell_type": "code",
      "metadata": {
        "id": "LIfioIpPWuUm",
        "colab": {
          "base_uri": "https://localhost:8080/",
          "height": 34
        },
        "outputId": "d7723b7d-165e-4b43-95d0-e20a515cc5eb"
      },
      "source": [
        "from zipfile import ZipFile\n",
        "file_name='/content/flower-goggle-tpu-classification.zip'\n",
        "with ZipFile(file_name,'r') as zip:\n",
        "  zip.extractall()\n",
        "  print('done')"
      ],
      "execution_count": null,
      "outputs": [
        {
          "output_type": "stream",
          "text": [
            "done\n"
          ],
          "name": "stdout"
        }
      ]
    },
    {
      "cell_type": "code",
      "metadata": {
        "id": "Cdik45aNcHDP"
      },
      "source": [
        "# Ignore  the warnings\n",
        "import warnings\n",
        "warnings.filterwarnings('always')\n",
        "warnings.filterwarnings('ignore')\n",
        "\n",
        "# data visualisation and manipulation\n",
        "import numpy as np\n",
        "import pandas as pd\n",
        "import matplotlib.pyplot as plt\n",
        "from matplotlib import style\n",
        "import seaborn as sns\n",
        " \n",
        "#configure\n",
        "# sets matplotlib to inline and displays graphs below the corressponding cell.\n",
        "%matplotlib inline  \n",
        "style.use('fivethirtyeight')\n",
        "sns.set(style='whitegrid',color_codes=True)\n",
        "\n",
        "#model selection\n",
        "from sklearn.model_selection import train_test_split\n",
        "from sklearn.model_selection import KFold\n",
        "from sklearn.metrics import accuracy_score,precision_score,recall_score,confusion_matrix,roc_curve,roc_auc_score\n",
        "from sklearn.model_selection import GridSearchCV\n",
        "from sklearn.preprocessing import LabelEncoder\n",
        "\n",
        "#preprocess.\n",
        "from keras.preprocessing.image import ImageDataGenerator\n",
        "\n",
        "#dl libraraies\n",
        "from tensorflow.python.keras import backend as K\n",
        "from tensorflow.python.keras.models import Sequential\n",
        "from tensorflow.python.keras.layers import Dense\n",
        "from tensorflow.python.keras.optimizers import Adam,SGD,Adagrad,Adadelta,RMSprop\n",
        "from keras.utils import to_categorical\n",
        "\n",
        "# specifically for cnn\n",
        "from tensorflow.python.keras.layers import Dropout, Flatten,Activation\n",
        "from tensorflow.python.keras.layers import Conv2D, MaxPooling2D, BatchNormalization\n",
        " \n",
        "import tensorflow as tf\n",
        "import random as rn\n",
        "\n",
        "# specifically for manipulating zipped images and getting numpy arrays of pixel values of images.\n",
        "import cv2                  \n",
        "import numpy as np  \n",
        "from tqdm import tqdm\n",
        "import os                   \n",
        "from random import shuffle  \n",
        "from zipfile import ZipFile\n",
        "from PIL import Image"
      ],
      "execution_count": null,
      "outputs": []
    },
    {
      "cell_type": "code",
      "metadata": {
        "id": "OYaMvGpMcHFs"
      },
      "source": [
        ""
      ],
      "execution_count": null,
      "outputs": []
    },
    {
      "cell_type": "code",
      "metadata": {
        "id": "hi9YYXc93FRT"
      },
      "source": [
        ""
      ],
      "execution_count": null,
      "outputs": []
    },
    {
      "cell_type": "code",
      "metadata": {
        "id": "q8MQipADXjdG",
        "colab": {
          "base_uri": "https://localhost:8080/",
          "height": 195
        },
        "outputId": "6bb8db0c-705f-400c-ae77-193bb1efa723"
      },
      "source": [
        "import pandas as pd\n",
        "flowers_idx=pd.read_csv('/content/flowers_idx.csv')\n",
        "flowers_idx.head(5)\n"
      ],
      "execution_count": null,
      "outputs": [
        {
          "output_type": "execute_result",
          "data": {
            "text/html": [
              "<div>\n",
              "<style scoped>\n",
              "    .dataframe tbody tr th:only-of-type {\n",
              "        vertical-align: middle;\n",
              "    }\n",
              "\n",
              "    .dataframe tbody tr th {\n",
              "        vertical-align: top;\n",
              "    }\n",
              "\n",
              "    .dataframe thead th {\n",
              "        text-align: right;\n",
              "    }\n",
              "</style>\n",
              "<table border=\"1\" class=\"dataframe\">\n",
              "  <thead>\n",
              "    <tr style=\"text-align: right;\">\n",
              "      <th></th>\n",
              "      <th>id</th>\n",
              "      <th>flower_cls</th>\n",
              "    </tr>\n",
              "  </thead>\n",
              "  <tbody>\n",
              "    <tr>\n",
              "      <th>0</th>\n",
              "      <td>7486</td>\n",
              "      <td>cape flower</td>\n",
              "    </tr>\n",
              "    <tr>\n",
              "      <th>1</th>\n",
              "      <td>9454</td>\n",
              "      <td>cape flower</td>\n",
              "    </tr>\n",
              "    <tr>\n",
              "      <th>2</th>\n",
              "      <td>6974</td>\n",
              "      <td>cape flower</td>\n",
              "    </tr>\n",
              "    <tr>\n",
              "      <th>3</th>\n",
              "      <td>4739</td>\n",
              "      <td>cape flower</td>\n",
              "    </tr>\n",
              "    <tr>\n",
              "      <th>4</th>\n",
              "      <td>8783</td>\n",
              "      <td>cape flower</td>\n",
              "    </tr>\n",
              "  </tbody>\n",
              "</table>\n",
              "</div>"
            ],
            "text/plain": [
              "     id   flower_cls\n",
              "0  7486  cape flower\n",
              "1  9454  cape flower\n",
              "2  6974  cape flower\n",
              "3  4739  cape flower\n",
              "4  8783  cape flower"
            ]
          },
          "metadata": {
            "tags": []
          },
          "execution_count": 13
        }
      ]
    },
    {
      "cell_type": "code",
      "metadata": {
        "id": "C9bOixbEeGMf",
        "colab": {
          "base_uri": "https://localhost:8080/",
          "height": 343
        },
        "outputId": "07b62667-e737-42d4-b665-c45584782dde"
      },
      "source": [
        "flowers_label=pd.read_csv('/content/flowers_label.csv')\n",
        "flowers_label.head(10)"
      ],
      "execution_count": null,
      "outputs": [
        {
          "output_type": "execute_result",
          "data": {
            "text/html": [
              "<div>\n",
              "<style scoped>\n",
              "    .dataframe tbody tr th:only-of-type {\n",
              "        vertical-align: middle;\n",
              "    }\n",
              "\n",
              "    .dataframe tbody tr th {\n",
              "        vertical-align: top;\n",
              "    }\n",
              "\n",
              "    .dataframe thead th {\n",
              "        text-align: right;\n",
              "    }\n",
              "</style>\n",
              "<table border=\"1\" class=\"dataframe\">\n",
              "  <thead>\n",
              "    <tr style=\"text-align: right;\">\n",
              "      <th></th>\n",
              "      <th>label</th>\n",
              "      <th>flower_class</th>\n",
              "    </tr>\n",
              "  </thead>\n",
              "  <tbody>\n",
              "    <tr>\n",
              "      <th>0</th>\n",
              "      <td>0</td>\n",
              "      <td>pink primrose</td>\n",
              "    </tr>\n",
              "    <tr>\n",
              "      <th>1</th>\n",
              "      <td>1</td>\n",
              "      <td>hard-leaved pocket orchid</td>\n",
              "    </tr>\n",
              "    <tr>\n",
              "      <th>2</th>\n",
              "      <td>2</td>\n",
              "      <td>canterbury bells</td>\n",
              "    </tr>\n",
              "    <tr>\n",
              "      <th>3</th>\n",
              "      <td>3</td>\n",
              "      <td>sweet pea</td>\n",
              "    </tr>\n",
              "    <tr>\n",
              "      <th>4</th>\n",
              "      <td>4</td>\n",
              "      <td>wild geranium</td>\n",
              "    </tr>\n",
              "    <tr>\n",
              "      <th>5</th>\n",
              "      <td>5</td>\n",
              "      <td>tiger lily</td>\n",
              "    </tr>\n",
              "    <tr>\n",
              "      <th>6</th>\n",
              "      <td>6</td>\n",
              "      <td>moon orchid</td>\n",
              "    </tr>\n",
              "    <tr>\n",
              "      <th>7</th>\n",
              "      <td>7</td>\n",
              "      <td>bird of paradise</td>\n",
              "    </tr>\n",
              "    <tr>\n",
              "      <th>8</th>\n",
              "      <td>8</td>\n",
              "      <td>monkshood</td>\n",
              "    </tr>\n",
              "    <tr>\n",
              "      <th>9</th>\n",
              "      <td>9</td>\n",
              "      <td>globe thistle</td>\n",
              "    </tr>\n",
              "  </tbody>\n",
              "</table>\n",
              "</div>"
            ],
            "text/plain": [
              "   label               flower_class\n",
              "0      0              pink primrose\n",
              "1      1  hard-leaved pocket orchid\n",
              "2      2           canterbury bells\n",
              "3      3                  sweet pea\n",
              "4      4              wild geranium\n",
              "5      5                 tiger lily\n",
              "6      6                moon orchid\n",
              "7      7           bird of paradise\n",
              "8      8                  monkshood\n",
              "9      9              globe thistle"
            ]
          },
          "metadata": {
            "tags": []
          },
          "execution_count": 14
        }
      ]
    },
    {
      "cell_type": "code",
      "metadata": {
        "id": "RI4AQMd8iNJW"
      },
      "source": [
        "# X=[]\n",
        "# Z=[]\n",
        "# IMG_SIZE=150\n",
        "FLOWER_DIR='/content/flower_tpu/flower_tpu/flowers_google/flowers_google'\n",
        "\n",
        "# def assign_label(img,flower_type):\n",
        "#     return flower_type\n",
        "\n",
        "\n"
      ],
      "execution_count": null,
      "outputs": []
    },
    {
      "cell_type": "code",
      "metadata": {
        "id": "nA0c3qz3yrRR"
      },
      "source": [
        "# img='/content/flower_tpu/flower_tpu/flowers_google/flowers_google/0.jpeg'\n",
        "# cv2.imread(img).shape\n"
      ],
      "execution_count": null,
      "outputs": []
    },
    {
      "cell_type": "code",
      "metadata": {
        "id": "qFn0fosXkWsK"
      },
      "source": [
        "# def make_train_data(flower_type,DIR):\n",
        "#     for img in tqdm(os.listdir(DIR)):\n",
        "#         label=assign_label(img,flower_type)\n",
        "#         path = os.path.join(DIR,img)\n",
        "#         img = cv2.imread(path,cv2.IMREAD_COLOR)\n",
        "#         img = cv2.resize(img, (IMG_SIZE,IMG_SIZE))\n",
        "        \n",
        "#         X.append(np.array(img))\n",
        "#         Z.append(str(label))\n",
        "        "
      ],
      "execution_count": null,
      "outputs": []
    },
    {
      "cell_type": "code",
      "metadata": {
        "id": "-fQEUkZwkXZU"
      },
      "source": [
        "\n",
        "img_array=[]\n",
        "label_array=[]\n",
        "for i in range(flowers_idx.shape[0]):\n",
        "  \n",
        "  save=str(i)+'.jpeg'\n",
        "  path = os.path.join(FLOWER_DIR, save)\n",
        "  \n",
        "  _label=flowers_idx[flowers_idx['id']==i]['flower_cls']\n",
        "  img = cv2.imread(path,cv2.IMREAD_COLOR)\n",
        "  img=cv2.resize(img,(125,125))\n",
        "  # print(path)\n",
        "  # make_train_data(_label[1],path)\n",
        "  img_array.append(np.array(img))\n",
        "  label_array.append(list(_label)[0])\n",
        "        "
      ],
      "execution_count": null,
      "outputs": []
    },
    {
      "cell_type": "code",
      "metadata": {
        "id": "1MaqG51Q4sm2",
        "colab": {
          "base_uri": "https://localhost:8080/",
          "height": 34
        },
        "outputId": "d8b6ac6a-97f0-4c9b-9804-1460c07249c3"
      },
      "source": [
        "print(label_array[2])"
      ],
      "execution_count": null,
      "outputs": [
        {
          "output_type": "stream",
          "text": [
            "king protea\n"
          ],
          "name": "stdout"
        }
      ]
    },
    {
      "cell_type": "code",
      "metadata": {
        "id": "MrXB7hisrNXW"
      },
      "source": [
        "label_array"
      ],
      "execution_count": null,
      "outputs": []
    },
    {
      "cell_type": "code",
      "metadata": {
        "id": "YM0OxDnfkBsa"
      },
      "source": [
        "for i in range(16465):\n",
        "  p=list(flowers_label[flowers_label['flower_class']==label_array[i]]['label'])\n",
        "  # print(i)\n",
        "  label_array[i]=p[0]\n"
      ],
      "execution_count": null,
      "outputs": []
    },
    {
      "cell_type": "code",
      "metadata": {
        "id": "FV4QN9tukXbp",
        "colab": {
          "base_uri": "https://localhost:8080/",
          "height": 1000
        },
        "outputId": "684be923-bb6e-4ec7-928b-0459b84b3cf9"
      },
      "source": [
        "fig,ax=plt.subplots(3,2)\n",
        "fig.set_size_inches(15,15)\n",
        "for i in range(3):\n",
        "    for j in range (2):\n",
        "        l=rn.randint(0,len(label_array))\n",
        "        ax[i,j].imshow(img_array[l])\n",
        "        ax[i,j].set_title('Flower: '+label_array[l])\n",
        "        \n",
        "plt.tight_layout()"
      ],
      "execution_count": null,
      "outputs": [
        {
          "output_type": "error",
          "ename": "TypeError",
          "evalue": "ignored",
          "traceback": [
            "\u001b[0;31m---------------------------------------------------------------------------\u001b[0m",
            "\u001b[0;31mTypeError\u001b[0m                                 Traceback (most recent call last)",
            "\u001b[0;32m<ipython-input-27-d297e77c5bc1>\u001b[0m in \u001b[0;36m<module>\u001b[0;34m()\u001b[0m\n\u001b[1;32m      5\u001b[0m         \u001b[0ml\u001b[0m\u001b[0;34m=\u001b[0m\u001b[0mrn\u001b[0m\u001b[0;34m.\u001b[0m\u001b[0mrandint\u001b[0m\u001b[0;34m(\u001b[0m\u001b[0;36m0\u001b[0m\u001b[0;34m,\u001b[0m\u001b[0mlen\u001b[0m\u001b[0;34m(\u001b[0m\u001b[0mlabel_array\u001b[0m\u001b[0;34m)\u001b[0m\u001b[0;34m)\u001b[0m\u001b[0;34m\u001b[0m\u001b[0;34m\u001b[0m\u001b[0m\n\u001b[1;32m      6\u001b[0m         \u001b[0max\u001b[0m\u001b[0;34m[\u001b[0m\u001b[0mi\u001b[0m\u001b[0;34m,\u001b[0m\u001b[0mj\u001b[0m\u001b[0;34m]\u001b[0m\u001b[0;34m.\u001b[0m\u001b[0mimshow\u001b[0m\u001b[0;34m(\u001b[0m\u001b[0mimg_array\u001b[0m\u001b[0;34m[\u001b[0m\u001b[0ml\u001b[0m\u001b[0;34m]\u001b[0m\u001b[0;34m)\u001b[0m\u001b[0;34m\u001b[0m\u001b[0;34m\u001b[0m\u001b[0m\n\u001b[0;32m----> 7\u001b[0;31m         \u001b[0max\u001b[0m\u001b[0;34m[\u001b[0m\u001b[0mi\u001b[0m\u001b[0;34m,\u001b[0m\u001b[0mj\u001b[0m\u001b[0;34m]\u001b[0m\u001b[0;34m.\u001b[0m\u001b[0mset_title\u001b[0m\u001b[0;34m(\u001b[0m\u001b[0;34m'Flower: '\u001b[0m\u001b[0;34m+\u001b[0m\u001b[0mlabel_array\u001b[0m\u001b[0;34m[\u001b[0m\u001b[0ml\u001b[0m\u001b[0;34m]\u001b[0m\u001b[0;34m)\u001b[0m\u001b[0;34m\u001b[0m\u001b[0;34m\u001b[0m\u001b[0m\n\u001b[0m\u001b[1;32m      8\u001b[0m \u001b[0;34m\u001b[0m\u001b[0m\n\u001b[1;32m      9\u001b[0m \u001b[0mplt\u001b[0m\u001b[0;34m.\u001b[0m\u001b[0mtight_layout\u001b[0m\u001b[0;34m(\u001b[0m\u001b[0;34m)\u001b[0m\u001b[0;34m\u001b[0m\u001b[0;34m\u001b[0m\u001b[0m\n",
            "\u001b[0;31mTypeError\u001b[0m: must be str, not int"
          ]
        },
        {
          "output_type": "display_data",
          "data": {
            "image/png": "[encoded data removed]",
            "text/plain": [
              "<Figure size 1080x1080 with 6 Axes>"
            ]
          },
          "metadata": {
            "tags": []
          }
        }
      ]
    },
    {
      "cell_type": "code",
      "metadata": {
        "id": "Yfr9zTbJuad2"
      },
      "source": [
        "# \"len(label_array)"
      ],
      "execution_count": null,
      "outputs": []
    },
    {
      "cell_type": "code",
      "metadata": {
        "id": "EIFq73PGkGes"
      },
      "source": [
        "# label_array"
      ],
      "execution_count": null,
      "outputs": []
    },
    {
      "cell_type": "code",
      "metadata": {
        "id": "1yZMUirakXfm"
      },
      "source": [
        "\n",
        "Y_train=to_categorical(label_array)\n"
      ],
      "execution_count": null,
      "outputs": []
    },
    {
      "cell_type": "code",
      "metadata": {
        "id": "Ln9yDrw_v69k"
      },
      "source": [
        "X_train=np.array(img_array)\n",
        "X_train=X_train/255"
      ],
      "execution_count": null,
      "outputs": []
    },
    {
      "cell_type": "code",
      "metadata": {
        "id": "6w9chBr9wF5i",
        "colab": {
          "base_uri": "https://localhost:8080/",
          "height": 50
        },
        "outputId": "5929a94e-452b-43f9-84c8-7ccc3259c49c"
      },
      "source": [
        "print(X_train.shape)\n",
        "print(Y_train.shape)"
      ],
      "execution_count": null,
      "outputs": [
        {
          "output_type": "stream",
          "text": [
            "(16465, 125, 125, 3)\n",
            "(16465, 104)\n"
          ],
          "name": "stdout"
        }
      ]
    },
    {
      "cell_type": "code",
      "metadata": {
        "id": "OyBRAuG2iv0l"
      },
      "source": [
        ""
      ],
      "execution_count": null,
      "outputs": []
    },
    {
      "cell_type": "code",
      "metadata": {
        "id": "Rrz3CqLAivo5"
      },
      "source": [
        ""
      ],
      "execution_count": null,
      "outputs": []
    },
    {
      "cell_type": "code",
      "metadata": {
        "id": "SJzc_AAiUeOo"
      },
      "source": [
        "x_train,x_val,y_train,y_val=train_test_split(X_train,Y_train,test_size=0.1,random_state=42)"
      ],
      "execution_count": null,
      "outputs": []
    },
    {
      "cell_type": "code",
      "metadata": {
        "id": "6y6pUoZaUyUb"
      },
      "source": [
        "np.random.seed(42)\n",
        "rn.seed(42)\n",
        "tf.random.set_seed(42)\n",
        "# tf.set_random_seed(42)"
      ],
      "execution_count": null,
      "outputs": []
    },
    {
      "cell_type": "code",
      "metadata": {
        "id": "mSY4lUjQzSj9"
      },
      "source": [
        "input_shape=(125,125,3)"
      ],
      "execution_count": null,
      "outputs": []
    },
    {
      "cell_type": "code",
      "metadata": {
        "id": "LgmdmipQiheX",
        "colab": {
          "base_uri": "https://localhost:8080/",
          "height": 655
        },
        "outputId": "bf2b3193-56d9-49ee-a346-eb3a6cd5fac3"
      },
      "source": [
        "model = Sequential()\n",
        "model.add(Conv2D(filters = 32, kernel_size = (5,5),padding = 'Same',activation ='relu', input_shape = input_shape))\n",
        "model.add(MaxPooling2D(pool_size=(2,2)))\n",
        "\n",
        "\n",
        "model.add(Conv2D(filters = 64, kernel_size = (3,3),padding = 'Same',activation ='relu'))\n",
        "model.add(MaxPooling2D(pool_size=(2,2), strides=(2,2)))\n",
        " \n",
        "\n",
        "model.add(Conv2D(filters =96, kernel_size = (3,3),padding = 'Same',activation ='relu'))\n",
        "model.add(MaxPooling2D(pool_size=(2,2), strides=(2,2)))\n",
        "\n",
        "model.add(Conv2D(filters = 96, kernel_size = (3,3),padding = 'Same',activation ='relu'))\n",
        "model.add(MaxPooling2D(pool_size=(2,2), strides=(2,2)))\n",
        "\n",
        "model.add(Flatten())\n",
        "model.add(Dropout(0.3))\n",
        "model.add(Dense(512,activation='relu'))\n",
        "model.add(Dropout(0.3))\n",
        "\n",
        "\n",
        "model.add(Dense(128,activation='relu'))\n",
        "model.add(Dropout(0.3))\n",
        "\n",
        "model.add(Dense(104, activation = \"softmax\"))\n",
        "model.summary()\n"
      ],
      "execution_count": null,
      "outputs": [
        {
          "output_type": "stream",
          "text": [
            "Model: \"sequential_1\"\n",
            "_________________________________________________________________\n",
            "Layer (type)                 Output Shape              Param #   \n",
            "=================================================================\n",
            "conv2d_4 (Conv2D)            (None, 125, 125, 32)      2432      \n",
            "_________________________________________________________________\n",
            "max_pooling2d_4 (MaxPooling2 (None, 62, 62, 32)        0         \n",
            "_________________________________________________________________\n",
            "conv2d_5 (Conv2D)            (None, 62, 62, 64)        18496     \n",
            "_________________________________________________________________\n",
            "max_pooling2d_5 (MaxPooling2 (None, 31, 31, 64)        0         \n",
            "_________________________________________________________________\n",
            "conv2d_6 (Conv2D)            (None, 31, 31, 96)        55392     \n",
            "_________________________________________________________________\n",
            "max_pooling2d_6 (MaxPooling2 (None, 15, 15, 96)        0         \n",
            "_________________________________________________________________\n",
            "conv2d_7 (Conv2D)            (None, 15, 15, 96)        83040     \n",
            "_________________________________________________________________\n",
            "max_pooling2d_7 (MaxPooling2 (None, 7, 7, 96)          0         \n",
            "_________________________________________________________________\n",
            "flatten_1 (Flatten)          (None, 4704)              0         \n",
            "_________________________________________________________________\n",
            "dropout_3 (Dropout)          (None, 4704)              0         \n",
            "_________________________________________________________________\n",
            "dense_3 (Dense)              (None, 512)               2408960   \n",
            "_________________________________________________________________\n",
            "dropout_4 (Dropout)          (None, 512)               0         \n",
            "_________________________________________________________________\n",
            "dense_4 (Dense)              (None, 128)               65664     \n",
            "_________________________________________________________________\n",
            "dropout_5 (Dropout)          (None, 128)               0         \n",
            "_________________________________________________________________\n",
            "dense_5 (Dense)              (None, 104)               13416     \n",
            "=================================================================\n",
            "Total params: 2,647,400\n",
            "Trainable params: 2,647,400\n",
            "Non-trainable params: 0\n",
            "_________________________________________________________________\n"
          ],
          "name": "stdout"
        }
      ]
    },
    {
      "cell_type": "code",
      "metadata": {
        "id": "roD0QMmar6qG"
      },
      "source": [
        ""
      ],
      "execution_count": null,
      "outputs": []
    },
    {
      "cell_type": "code",
      "metadata": {
        "id": "oEdZF4EBr6oR"
      },
      "source": [
        "import keras"
      ],
      "execution_count": null,
      "outputs": []
    },
    {
      "cell_type": "code",
      "metadata": {
        "id": "zC0DxAj2tsuG"
      },
      "source": [
        "# import tensorflow as tf \n",
        "# model = tf.keras.models.load_model('/content/flower_final.h5')"
      ],
      "execution_count": null,
      "outputs": []
    },
    {
      "cell_type": "code",
      "metadata": {
        "id": "gQkEZXYglsNI"
      },
      "source": [
        "# import keras\n",
        "# model=keras.models.load_model('/content/flower_final.h5')"
      ],
      "execution_count": null,
      "outputs": []
    },
    {
      "cell_type": "code",
      "metadata": {
        "id": "EJD7cTRhw8uX",
        "colab": {
          "base_uri": "https://localhost:8080/",
          "height": 34
        },
        "outputId": "c5cb2bd1-71db-42a0-ca39-f1ff3d544b5a"
      },
      "source": [
        "# import tensorflow as tf \n",
        "# classifierLoad = tf.keras.models.load_model('/content/flower_final.h5')"
      ],
      "execution_count": null,
      "outputs": [
        {
          "output_type": "stream",
          "text": [
            "WARNING:tensorflow:Error in loading the saved optimizer state. As a result, your model is starting with a freshly initialized optimizer.\n"
          ],
          "name": "stdout"
        }
      ]
    },
    {
      "cell_type": "markdown",
      "metadata": {
        "id": "QxUFRTd39NBo"
      },
      "source": [
        ""
      ]
    },
    {
      "cell_type": "code",
      "metadata": {
        "id": "yChmQVdynjrq"
      },
      "source": [
        "# import io\n",
        "# from tensorflow.python.keras.models import load_model\n",
        "\n",
        "# model=load_model(io.BytesIO(model['flower_final.h5']))"
      ],
      "execution_count": null,
      "outputs": []
    },
    {
      "cell_type": "code",
      "metadata": {
        "id": "Yn1XO9qzxC68"
      },
      "source": [
        "model=classifierLoad"
      ],
      "execution_count": null,
      "outputs": []
    },
    {
      "cell_type": "code",
      "metadata": {
        "id": "ww4ZD65Izi8V"
      },
      "source": [
        "batch_size=128\n",
        "epochs=100\n",
        "\n",
        "from keras.callbacks import ReduceLROnPlateau\n",
        "red_lr= ReduceLROnPlateau(monitor='val_acc',patience=3,verbose=1,factor=0.1)"
      ],
      "execution_count": null,
      "outputs": []
    },
    {
      "cell_type": "code",
      "metadata": {
        "id": "9aLkQzMS0zZ9"
      },
      "source": [
        "datagen = ImageDataGenerator(\n",
        "        featurewise_center=False,  # set input mean to 0 over the dataset\n",
        "        samplewise_center=False,  # set each sample mean to 0\n",
        "        featurewise_std_normalization=False,  # divide inputs by std of the dataset\n",
        "        samplewise_std_normalization=False,  # divide each input by its std\n",
        "        zca_whitening=False,  # apply ZCA whitening\n",
        "        rotation_range=10,  # randomly rotate images in the range (degrees, 0 to 180)\n",
        "        zoom_range = 0.1, # Randomly zoom image \n",
        "        width_shift_range=0.2,  # randomly shift images horizontally (fraction of total width)\n",
        "        height_shift_range=0.2,  # randomly shift images vertically (fraction of total height)\n",
        "        horizontal_flip=True,  # randomly flip images\n",
        "        vertical_flip=False)  # randomly flip images\n",
        "\n",
        "\n",
        "datagen.fit(X_train)"
      ],
      "execution_count": null,
      "outputs": []
    },
    {
      "cell_type": "code",
      "metadata": {
        "id": "d4lyxmr-1BF9"
      },
      "source": [
        "model.compile(optimizer=tf.keras.optimizers.Adam(lr=0.001),loss='categorical_crossentropy',metrics=['accuracy'])"
      ],
      "execution_count": null,
      "outputs": []
    },
    {
      "cell_type": "markdown",
      "metadata": {
        "id": "8ZFYLenW9otY"
      },
      "source": [
        "**total 150 epochs were taken. first 50 and model were saved and loaded agian followed by another 100 epochs**"
      ]
    },
    {
      "cell_type": "code",
      "metadata": {
        "id": "firdbpG2T8b5",
        "colab": {
          "base_uri": "https://localhost:8080/",
          "height": 1000
        },
        "outputId": "184241ab-3932-4083-e891-76a19ca2bf1c"
      },
      "source": [
        "History = model.fit_generator(datagen.flow(x_train,y_train, batch_size=batch_size),\n",
        "                              epochs = epochs, validation_data = (x_val,y_val),\n",
        "                              verbose = 1, steps_per_epoch=x_train.shape[0] // batch_size)\n",
        "# model.fit(x_train,y_train,epochs=epochs,batch_size=batch_size,validation_data = (x_val,y_val))\n",
        "# from keras.models import load_model\n",
        "# model.save('/content/flower100.h5')\n",
        "# print(\"complete\")"
      ],
      "execution_count": null,
      "outputs": [
        {
          "output_type": "stream",
          "text": [
            "WARNING:tensorflow:From <ipython-input-58-a9f04542a280>:3: Model.fit_generator (from tensorflow.python.keras.engine.training) is deprecated and will be removed in a future version.\n",
            "Instructions for updating:\n",
            "Please use Model.fit, which supports generators.\n",
            "Epoch 1/100\n",
            "115/115 [==============================] - 279s 2s/step - loss: 1.4092 - accuracy: 0.5993 - val_loss: 1.5073 - val_accuracy: 0.6126\n",
            "Epoch 2/100\n",
            "115/115 [==============================] - 276s 2s/step - loss: 1.3868 - accuracy: 0.6125 - val_loss: 1.5216 - val_accuracy: 0.6321\n",
            "Epoch 3/100\n",
            "115/115 [==============================] - 280s 2s/step - loss: 1.3820 - accuracy: 0.6125 - val_loss: 1.4802 - val_accuracy: 0.6248\n",
            "Epoch 4/100\n",
            "115/115 [==============================] - 281s 2s/step - loss: 1.3723 - accuracy: 0.6110 - val_loss: 1.4752 - val_accuracy: 0.6272\n",
            "Epoch 5/100\n",
            "115/115 [==============================] - 281s 2s/step - loss: 1.3363 - accuracy: 0.6178 - val_loss: 1.4651 - val_accuracy: 0.6339\n",
            "Epoch 6/100\n",
            "115/115 [==============================] - 281s 2s/step - loss: 1.3356 - accuracy: 0.6234 - val_loss: 1.4727 - val_accuracy: 0.6266\n",
            "Epoch 7/100\n",
            "115/115 [==============================] - 281s 2s/step - loss: 1.3402 - accuracy: 0.6198 - val_loss: 1.4636 - val_accuracy: 0.6308\n",
            "Epoch 8/100\n",
            "115/115 [==============================] - 280s 2s/step - loss: 1.3297 - accuracy: 0.6237 - val_loss: 1.4377 - val_accuracy: 0.6393\n",
            "Epoch 9/100\n",
            "115/115 [==============================] - 280s 2s/step - loss: 1.3160 - accuracy: 0.6224 - val_loss: 1.4442 - val_accuracy: 0.6424\n",
            "Epoch 10/100\n",
            "115/115 [==============================] - 283s 2s/step - loss: 1.2927 - accuracy: 0.6323 - val_loss: 1.4742 - val_accuracy: 0.6327\n",
            "Epoch 11/100\n",
            "115/115 [==============================] - 283s 2s/step - loss: 1.2557 - accuracy: 0.6418 - val_loss: 1.4630 - val_accuracy: 0.6381\n",
            "Epoch 12/100\n",
            "115/115 [==============================] - 285s 2s/step - loss: 1.2824 - accuracy: 0.6312 - val_loss: 1.4461 - val_accuracy: 0.6339\n",
            "Epoch 13/100\n",
            "115/115 [==============================] - 284s 2s/step - loss: 1.2628 - accuracy: 0.6409 - val_loss: 1.4743 - val_accuracy: 0.6302\n",
            "Epoch 14/100\n",
            "115/115 [==============================] - 282s 2s/step - loss: 1.2238 - accuracy: 0.6485 - val_loss: 1.4660 - val_accuracy: 0.6424\n",
            "Epoch 15/100\n",
            "115/115 [==============================] - 282s 2s/step - loss: 1.2332 - accuracy: 0.6413 - val_loss: 1.4540 - val_accuracy: 0.6351\n",
            "Epoch 16/100\n",
            "115/115 [==============================] - 282s 2s/step - loss: 1.2351 - accuracy: 0.6457 - val_loss: 1.4947 - val_accuracy: 0.6242\n",
            "Epoch 17/100\n",
            "115/115 [==============================] - 282s 2s/step - loss: 1.2257 - accuracy: 0.6457 - val_loss: 1.4268 - val_accuracy: 0.6430\n",
            "Epoch 18/100\n",
            "115/115 [==============================] - 283s 2s/step - loss: 1.2359 - accuracy: 0.6433 - val_loss: 1.4251 - val_accuracy: 0.6369\n",
            "Epoch 19/100\n",
            "115/115 [==============================] - 282s 2s/step - loss: 1.1994 - accuracy: 0.6509 - val_loss: 1.4254 - val_accuracy: 0.6454\n",
            "Epoch 20/100\n",
            "115/115 [==============================] - 283s 2s/step - loss: 1.1922 - accuracy: 0.6527 - val_loss: 1.4226 - val_accuracy: 0.6478\n",
            "Epoch 21/100\n",
            "115/115 [==============================] - 282s 2s/step - loss: 1.1765 - accuracy: 0.6623 - val_loss: 1.4030 - val_accuracy: 0.6497\n",
            "Epoch 22/100\n",
            "115/115 [==============================] - 283s 2s/step - loss: 1.1723 - accuracy: 0.6580 - val_loss: 1.4479 - val_accuracy: 0.6424\n",
            "Epoch 23/100\n",
            "115/115 [==============================] - 284s 2s/step - loss: 1.1664 - accuracy: 0.6664 - val_loss: 1.4653 - val_accuracy: 0.6375\n",
            "Epoch 24/100\n",
            "115/115 [==============================] - 283s 2s/step - loss: 1.1645 - accuracy: 0.6630 - val_loss: 1.4246 - val_accuracy: 0.6454\n",
            "Epoch 25/100\n",
            "115/115 [==============================] - 283s 2s/step - loss: 1.1448 - accuracy: 0.6692 - val_loss: 1.4267 - val_accuracy: 0.6448\n",
            "Epoch 26/100\n",
            "115/115 [==============================] - 286s 2s/step - loss: 1.1243 - accuracy: 0.6716 - val_loss: 1.5256 - val_accuracy: 0.6327\n",
            "Epoch 27/100\n",
            "115/115 [==============================] - 284s 2s/step - loss: 1.1401 - accuracy: 0.6643 - val_loss: 1.5375 - val_accuracy: 0.6260\n",
            "Epoch 28/100\n",
            "115/115 [==============================] - 285s 2s/step - loss: 1.1157 - accuracy: 0.6712 - val_loss: 1.3757 - val_accuracy: 0.6630\n",
            "Epoch 29/100\n",
            "115/115 [==============================] - 287s 2s/step - loss: 1.1035 - accuracy: 0.6769 - val_loss: 1.4100 - val_accuracy: 0.6551\n",
            "Epoch 30/100\n",
            "115/115 [==============================] - 287s 2s/step - loss: 1.1427 - accuracy: 0.6706 - val_loss: 1.4454 - val_accuracy: 0.6381\n",
            "Epoch 31/100\n",
            "115/115 [==============================] - 289s 3s/step - loss: 1.1097 - accuracy: 0.6790 - val_loss: 1.4237 - val_accuracy: 0.6436\n",
            "Epoch 32/100\n",
            "115/115 [==============================] - 287s 2s/step - loss: 1.0703 - accuracy: 0.6834 - val_loss: 1.4065 - val_accuracy: 0.6618\n",
            "Epoch 33/100\n",
            "115/115 [==============================] - 287s 2s/step - loss: 1.0808 - accuracy: 0.6811 - val_loss: 1.4584 - val_accuracy: 0.6448\n",
            "Epoch 34/100\n",
            "115/115 [==============================] - 287s 2s/step - loss: 1.0808 - accuracy: 0.6851 - val_loss: 1.4079 - val_accuracy: 0.6600\n",
            "Epoch 35/100\n",
            "115/115 [==============================] - 290s 3s/step - loss: 1.0917 - accuracy: 0.6837 - val_loss: 1.4456 - val_accuracy: 0.6557\n",
            "Epoch 36/100\n",
            "115/115 [==============================] - 289s 3s/step - loss: 1.0822 - accuracy: 0.6855 - val_loss: 1.4204 - val_accuracy: 0.6673\n",
            "Epoch 37/100\n",
            "115/115 [==============================] - 288s 3s/step - loss: 1.0392 - accuracy: 0.6971 - val_loss: 1.4265 - val_accuracy: 0.6642\n",
            "Epoch 38/100\n",
            "115/115 [==============================] - 293s 3s/step - loss: 1.0556 - accuracy: 0.6889 - val_loss: 1.4354 - val_accuracy: 0.6570\n",
            "Epoch 39/100\n",
            "115/115 [==============================] - 288s 3s/step - loss: 1.0593 - accuracy: 0.6891 - val_loss: 1.4568 - val_accuracy: 0.6533\n",
            "Epoch 40/100\n",
            "115/115 [==============================] - 287s 2s/step - loss: 1.0687 - accuracy: 0.6912 - val_loss: 1.4351 - val_accuracy: 0.6588\n",
            "Epoch 41/100\n",
            "115/115 [==============================] - 288s 3s/step - loss: 1.0182 - accuracy: 0.6988 - val_loss: 1.4265 - val_accuracy: 0.6648\n",
            "Epoch 42/100\n",
            "115/115 [==============================] - 287s 2s/step - loss: 1.0338 - accuracy: 0.6975 - val_loss: 1.4195 - val_accuracy: 0.6630\n",
            "Epoch 43/100\n",
            "115/115 [==============================] - 288s 3s/step - loss: 1.0077 - accuracy: 0.7031 - val_loss: 1.5207 - val_accuracy: 0.6430\n",
            "Epoch 44/100\n",
            "115/115 [==============================] - 286s 2s/step - loss: 1.0617 - accuracy: 0.6874 - val_loss: 1.4625 - val_accuracy: 0.6606\n",
            "Epoch 45/100\n",
            "115/115 [==============================] - 288s 3s/step - loss: 1.0135 - accuracy: 0.7006 - val_loss: 1.4321 - val_accuracy: 0.6539\n",
            "Epoch 46/100\n",
            "115/115 [==============================] - 286s 2s/step - loss: 1.0271 - accuracy: 0.6950 - val_loss: 1.4210 - val_accuracy: 0.6539\n",
            "Epoch 47/100\n",
            "115/115 [==============================] - 287s 2s/step - loss: 1.0322 - accuracy: 0.6973 - val_loss: 1.4601 - val_accuracy: 0.6709\n",
            "Epoch 48/100\n",
            "115/115 [==============================] - 289s 3s/step - loss: 1.0162 - accuracy: 0.7052 - val_loss: 1.4478 - val_accuracy: 0.6667\n",
            "Epoch 49/100\n",
            "115/115 [==============================] - 287s 2s/step - loss: 1.0084 - accuracy: 0.7015 - val_loss: 1.4189 - val_accuracy: 0.6685\n",
            "Epoch 50/100\n",
            "115/115 [==============================] - 287s 2s/step - loss: 1.0191 - accuracy: 0.7027 - val_loss: 1.4425 - val_accuracy: 0.6618\n",
            "Epoch 51/100\n",
            "115/115 [==============================] - 290s 3s/step - loss: 1.1437 - accuracy: 0.6703 - val_loss: 1.4173 - val_accuracy: 0.6624\n",
            "Epoch 52/100\n",
            "115/115 [==============================] - 286s 2s/step - loss: 1.1259 - accuracy: 0.6795 - val_loss: 1.4260 - val_accuracy: 0.6606\n",
            "Epoch 53/100\n",
            "115/115 [==============================] - 285s 2s/step - loss: 1.1048 - accuracy: 0.6811 - val_loss: 1.3859 - val_accuracy: 0.6612\n",
            "Epoch 54/100\n",
            "115/115 [==============================] - 288s 3s/step - loss: 1.0988 - accuracy: 0.6793 - val_loss: 1.3998 - val_accuracy: 0.6563\n",
            "Epoch 55/100\n",
            "115/115 [==============================] - 288s 3s/step - loss: 1.1262 - accuracy: 0.6752 - val_loss: 1.3907 - val_accuracy: 0.6576\n",
            "Epoch 56/100\n",
            "115/115 [==============================] - 289s 3s/step - loss: 1.1067 - accuracy: 0.6815 - val_loss: 1.4113 - val_accuracy: 0.6600\n",
            "Epoch 57/100\n",
            "115/115 [==============================] - 289s 3s/step - loss: 1.1028 - accuracy: 0.6852 - val_loss: 1.3763 - val_accuracy: 0.6733\n",
            "Epoch 58/100\n",
            "115/115 [==============================] - 288s 3s/step - loss: 1.0893 - accuracy: 0.6867 - val_loss: 1.4221 - val_accuracy: 0.6485\n",
            "Epoch 59/100\n",
            "115/115 [==============================] - 289s 3s/step - loss: 1.1373 - accuracy: 0.6718 - val_loss: 1.3371 - val_accuracy: 0.6721\n",
            "Epoch 60/100\n",
            "115/115 [==============================] - 288s 3s/step - loss: 1.0612 - accuracy: 0.6918 - val_loss: 1.3351 - val_accuracy: 0.6685\n",
            "Epoch 61/100\n",
            "115/115 [==============================] - 286s 2s/step - loss: 1.0865 - accuracy: 0.6884 - val_loss: 1.3799 - val_accuracy: 0.6727\n",
            "Epoch 62/100\n",
            "115/115 [==============================] - 288s 3s/step - loss: 1.0813 - accuracy: 0.6885 - val_loss: 1.3449 - val_accuracy: 0.6679\n",
            "Epoch 63/100\n",
            "115/115 [==============================] - 287s 2s/step - loss: 1.0886 - accuracy: 0.6894 - val_loss: 1.3595 - val_accuracy: 0.6667\n",
            "Epoch 64/100\n",
            "115/115 [==============================] - 294s 3s/step - loss: 1.0717 - accuracy: 0.6916 - val_loss: 1.3545 - val_accuracy: 0.6727\n",
            "Epoch 65/100\n",
            "115/115 [==============================] - 289s 3s/step - loss: 1.0521 - accuracy: 0.6955 - val_loss: 1.3692 - val_accuracy: 0.6618\n",
            "Epoch 66/100\n",
            "115/115 [==============================] - 288s 3s/step - loss: 1.0812 - accuracy: 0.6832 - val_loss: 1.3589 - val_accuracy: 0.6624\n",
            "Epoch 67/100\n",
            "115/115 [==============================] - 291s 3s/step - loss: 1.0486 - accuracy: 0.6972 - val_loss: 1.3903 - val_accuracy: 0.6703\n",
            "Epoch 68/100\n",
            "115/115 [==============================] - 289s 3s/step - loss: 1.0709 - accuracy: 0.6898 - val_loss: 1.3676 - val_accuracy: 0.6691\n",
            "Epoch 69/100\n",
            "115/115 [==============================] - 288s 3s/step - loss: 1.0577 - accuracy: 0.6931 - val_loss: 1.3720 - val_accuracy: 0.6636\n",
            "Epoch 70/100\n",
            "115/115 [==============================] - 291s 3s/step - loss: 1.0465 - accuracy: 0.6994 - val_loss: 1.3310 - val_accuracy: 0.6770\n",
            "Epoch 71/100\n",
            "115/115 [==============================] - 290s 3s/step - loss: 1.0421 - accuracy: 0.6975 - val_loss: 1.3502 - val_accuracy: 0.6655\n",
            "Epoch 72/100\n",
            "115/115 [==============================] - 288s 3s/step - loss: 1.0486 - accuracy: 0.6947 - val_loss: 1.3910 - val_accuracy: 0.6673\n",
            "Epoch 73/100\n",
            "115/115 [==============================] - 293s 3s/step - loss: 1.0335 - accuracy: 0.7020 - val_loss: 1.3663 - val_accuracy: 0.6800\n",
            "Epoch 74/100\n",
            "115/115 [==============================] - 290s 3s/step - loss: 1.0412 - accuracy: 0.6995 - val_loss: 1.3739 - val_accuracy: 0.6727\n",
            "Epoch 75/100\n",
            "115/115 [==============================] - 289s 3s/step - loss: 1.0375 - accuracy: 0.6945 - val_loss: 1.3637 - val_accuracy: 0.6776\n",
            "Epoch 76/100\n",
            "115/115 [==============================] - 290s 3s/step - loss: 1.0248 - accuracy: 0.7021 - val_loss: 1.3971 - val_accuracy: 0.6673\n",
            "Epoch 77/100\n",
            "115/115 [==============================] - 288s 3s/step - loss: 1.0176 - accuracy: 0.7016 - val_loss: 1.3579 - val_accuracy: 0.6667\n",
            "Epoch 78/100\n",
            "115/115 [==============================] - 288s 3s/step - loss: 1.0349 - accuracy: 0.6990 - val_loss: 1.3458 - val_accuracy: 0.6879\n",
            "Epoch 79/100\n",
            "115/115 [==============================] - 289s 3s/step - loss: 1.0203 - accuracy: 0.7046 - val_loss: 1.3811 - val_accuracy: 0.6709\n",
            "Epoch 80/100\n",
            "115/115 [==============================] - 289s 3s/step - loss: 1.0401 - accuracy: 0.6998 - val_loss: 1.3810 - val_accuracy: 0.6733\n",
            "Epoch 81/100\n",
            "115/115 [==============================] - 289s 3s/step - loss: 1.0104 - accuracy: 0.7014 - val_loss: 1.3855 - val_accuracy: 0.6679\n",
            "Epoch 82/100\n",
            "115/115 [==============================] - 289s 3s/step - loss: 1.0183 - accuracy: 0.7076 - val_loss: 1.4040 - val_accuracy: 0.6770\n",
            "Epoch 83/100\n",
            "115/115 [==============================] - 285s 2s/step - loss: 1.0091 - accuracy: 0.7067 - val_loss: 1.3356 - val_accuracy: 0.6879\n",
            "Epoch 84/100\n",
            "115/115 [==============================] - 286s 2s/step - loss: 1.0062 - accuracy: 0.7082 - val_loss: 1.3649 - val_accuracy: 0.6831\n",
            "Epoch 85/100\n",
            "115/115 [==============================] - 286s 2s/step - loss: 0.9789 - accuracy: 0.7112 - val_loss: 1.3816 - val_accuracy: 0.6721\n",
            "Epoch 86/100\n",
            "115/115 [==============================] - 288s 3s/step - loss: 1.0056 - accuracy: 0.7059 - val_loss: 1.3801 - val_accuracy: 0.6770\n",
            "Epoch 87/100\n",
            "115/115 [==============================] - 289s 3s/step - loss: 0.9996 - accuracy: 0.7096 - val_loss: 1.3914 - val_accuracy: 0.6685\n",
            "Epoch 88/100\n",
            "115/115 [==============================] - 292s 3s/step - loss: 0.9958 - accuracy: 0.7074 - val_loss: 1.3441 - val_accuracy: 0.6806\n",
            "Epoch 89/100\n",
            "115/115 [==============================] - 291s 3s/step - loss: 0.9713 - accuracy: 0.7229 - val_loss: 1.3257 - val_accuracy: 0.6806\n",
            "Epoch 90/100\n",
            "115/115 [==============================] - 289s 3s/step - loss: 0.9779 - accuracy: 0.7140 - val_loss: 1.4034 - val_accuracy: 0.6746\n",
            "Epoch 91/100\n",
            "115/115 [==============================] - 290s 3s/step - loss: 0.9674 - accuracy: 0.7157 - val_loss: 1.3881 - val_accuracy: 0.6910\n",
            "Epoch 92/100\n",
            "115/115 [==============================] - 290s 3s/step - loss: 0.9721 - accuracy: 0.7180 - val_loss: 1.3875 - val_accuracy: 0.6709\n",
            "Epoch 93/100\n",
            "115/115 [==============================] - 289s 3s/step - loss: 0.9931 - accuracy: 0.7094 - val_loss: 1.3699 - val_accuracy: 0.6818\n",
            "Epoch 94/100\n",
            "115/115 [==============================] - 290s 3s/step - loss: 0.9618 - accuracy: 0.7165 - val_loss: 1.3431 - val_accuracy: 0.6897\n",
            "Epoch 95/100\n",
            "115/115 [==============================] - 290s 3s/step - loss: 0.9673 - accuracy: 0.7164 - val_loss: 1.3514 - val_accuracy: 0.6764\n",
            "Epoch 96/100\n",
            "115/115 [==============================] - 289s 3s/step - loss: 0.9789 - accuracy: 0.7144 - val_loss: 1.4128 - val_accuracy: 0.6764\n",
            "Epoch 98/100\n",
            "115/115 [==============================] - 289s 3s/step - loss: 0.9686 - accuracy: 0.7160 - val_loss: 1.3831 - val_accuracy: 0.6703\n",
            "Epoch 99/100\n",
            "115/115 [==============================] - 288s 3s/step - loss: 0.9560 - accuracy: 0.7192 - val_loss: 1.3464 - val_accuracy: 0.6806\n",
            "Epoch 100/100\n",
            "115/115 [==============================] - 289s 3s/step - loss: 0.9596 - accuracy: 0.7166 - val_loss: 1.3230 - val_accuracy: 0.6916\n"
          ],
          "name": "stdout"
        }
      ]
    },
    {
      "cell_type": "code",
      "metadata": {
        "id": "SLFsgQby8Jto",
        "colab": {
          "base_uri": "https://localhost:8080/",
          "height": 34
        },
        "outputId": "0124b313-eb88-4496-d46c-fbf407ca2b9f"
      },
      "source": [
        "from keras.models import load_model\n",
        "model.save('/content/flower100.h5')\n",
        "print(\"complete\")"
      ],
      "execution_count": null,
      "outputs": [
        {
          "output_type": "stream",
          "text": [
            "complete\n"
          ],
          "name": "stdout"
        }
      ]
    },
    {
      "cell_type": "code",
      "metadata": {
        "id": "dt_OvzcKeG5i",
        "colab": {
          "base_uri": "https://localhost:8080/",
          "height": 50
        },
        "outputId": "9e54534d-83b3-448b-eb84-93c007b63497"
      },
      "source": [
        "\n",
        "X_test=[]\n",
        "test_data=[]\n",
        "\n",
        "test_dir = \"/content/flower_tpu/flower_tpu/test/test\"\n",
        "\n",
        "from os import walk\n",
        "\n",
        "for (dirpath, dirnames, filenames) in walk(test_dir):\n",
        "    test_data.extend(filenames)\n",
        "    break\n",
        "print(test_data[0])  \n",
        "\n",
        "    \n",
        "\n",
        "j=0\n",
        "\n",
        "for i in test_data :\n",
        "\n",
        "  \n",
        "    \n",
        "    \n",
        "    path = os.path.join(test_dir, test_data[j]) \n",
        "\n",
        "  #   _label=flowers_idx[flowers_idx['id']==i]['flower_cls']\n",
        "    img = cv2.imread(path,cv2.IMREAD_COLOR)\n",
        "    # print(img)\n",
        "    img=cv2.resize(img,(125,125))\n",
        "    # print(path)\n",
        "    # make_train_data(_label[1],path)\n",
        "    X_test.append(np.array(img))\n",
        "    j=j+1\n",
        "\n",
        "#   label_array.append(list(_label)[0])\n",
        "# print(X_test)\n",
        "# print(X_test.shape)\n",
        "\n",
        "X_t=np.array(X_test)\n",
        "X_t=X_t/255\n",
        "print(X_t.shape)"
      ],
      "execution_count": null,
      "outputs": [
        {
          "output_type": "stream",
          "text": [
            "c21cd70d4.jpeg\n",
            "(7382, 125, 125, 3)\n"
          ],
          "name": "stdout"
        }
      ]
    },
    {
      "cell_type": "code",
      "metadata": {
        "id": "MY_3O-c7zVZo",
        "colab": {
          "base_uri": "https://localhost:8080/",
          "height": 34
        },
        "outputId": "26b8954b-b43f-40d6-b316-dbd8dae0364c"
      },
      "source": [
        "import tensorflow as tf \n",
        "classifierLoad1 = tf.keras.models.load_model('/content/flower100.h5')\n",
        "\n",
        "model=classifierLoad1"
      ],
      "execution_count": null,
      "outputs": [
        {
          "output_type": "stream",
          "text": [
            "WARNING:tensorflow:Error in loading the saved optimizer state. As a result, your model is starting with a freshly initialized optimizer.\n"
          ],
          "name": "stdout"
        }
      ]
    },
    {
      "cell_type": "code",
      "metadata": {
        "id": "V-KPKiBk2WTn"
      },
      "source": [
        "import numpy as np\n",
        "import matplotlib.pyplot as plt\n",
        "\n",
        "pred=model.predict(X_t)\n",
        "pred_digits=np.argmax(pred,axis=1)"
      ],
      "execution_count": null,
      "outputs": []
    },
    {
      "cell_type": "code",
      "metadata": {
        "id": "ZrP3rEQA2cnL"
      },
      "source": [
        "pred_digits.shape\n",
        "pred_list=list(pred_digits)"
      ],
      "execution_count": null,
      "outputs": []
    },
    {
      "cell_type": "markdown",
      "metadata": {
        "id": "y7792C3q-V7Q"
      },
      "source": [
        "**labels are given according to given label csv file**"
      ]
    },
    {
      "cell_type": "code",
      "metadata": {
        "id": "WYiXZNHa2mzb",
        "colab": {
          "base_uri": "https://localhost:8080/",
          "height": 252
        },
        "outputId": "78302244-7082-4c7d-cd80-10d2bb5b2b29"
      },
      "source": [
        "ndf=pd.DataFrame()\n",
        "\n",
        "ndf.insert(loc=0, column='test data set',value=test_data)\n",
        "ndf.insert(loc=1, column='labels',value=pred_list)\n",
        "\n",
        "\n",
        "ndf.head\n",
        "\n"
      ],
      "execution_count": null,
      "outputs": [
        {
          "output_type": "execute_result",
          "data": {
            "text/plain": [
              "<bound method NDFrame.head of        test data set  labels\n",
              "0     c21cd70d4.jpeg      52\n",
              "1     352d983b1.jpeg       5\n",
              "2     0a4ddf5c2.jpeg      72\n",
              "3     c590e76b2.jpeg       8\n",
              "4     60372c4bb.jpeg     103\n",
              "...              ...     ...\n",
              "7377  54419838d.jpeg      53\n",
              "7378  d56f1eaf5.jpeg      38\n",
              "7379  eaddf667a.jpeg       4\n",
              "7380  dc4f97c9d.jpeg     103\n",
              "7381  7e61b7ed2.jpeg      12\n",
              "\n",
              "[7382 rows x 2 columns]>"
            ]
          },
          "metadata": {
            "tags": []
          },
          "execution_count": 84
        }
      ]
    },
    {
      "cell_type": "code",
      "metadata": {
        "id": "Dm0L40-g229d"
      },
      "source": [
        ""
      ],
      "execution_count": null,
      "outputs": []
    },
    {
      "cell_type": "code",
      "metadata": {
        "id": "iEjs_HyB3ifu"
      },
      "source": [
        ""
      ],
      "execution_count": null,
      "outputs": []
    }
  ]
}